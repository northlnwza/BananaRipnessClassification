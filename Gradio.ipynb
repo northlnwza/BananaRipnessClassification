{
  "cells": [
    {
      "cell_type": "code",
      "execution_count": null,
      "metadata": {
        "id": "PdaYqDRBqYDC"
      },
      "outputs": [],
      "source": [
        "pip install fastai --upgrade"
      ]
    },
    {
      "cell_type": "code",
      "execution_count": null,
      "metadata": {
        "id": "0NX3Zl-8yB_k"
      },
      "outputs": [],
      "source": [
        "pip install gradio --upgrade"
      ]
    },
    {
      "cell_type": "code",
      "execution_count": null,
      "metadata": {
        "id": "N5uxpDrnrFwr"
      },
      "outputs": [],
      "source": [
        "import gradio as gr\n",
        "from fastai.vision.all import *\n",
        "import numpy as np\n",
        "import gradio as gr\n",
        "import json\n",
        "from os.path import dirname, realpath, join"
      ]
    },
    {
      "cell_type": "code",
      "execution_count": null,
      "metadata": {
        "id": "d0J9tA6w5nqx"
      },
      "outputs": [],
      "source": [
        "plt = platform.system()\n",
        "if plt == 'Windows': pathlib.PosixPath = pathlib.WindowsPath"
      ]
    },
    {
      "cell_type": "code",
      "execution_count": null,
      "metadata": {
        "id": "5zxeapU9wHnt"
      },
      "outputs": [],
      "source": [
        "learn = load_learner('/content/drive/MyDrive/model/all_resnet50_1.pkl')"
      ]
    },
    {
      "cell_type": "code",
      "execution_count": null,
      "metadata": {
        "id": "2bA9NyG38Tsd"
      },
      "outputs": [],
      "source": [
        "labels = [\n",
        "    'This is Lebmuernang underripe stage, it has high resistance starch and probiotics',\n",
        "    'This is Lebmuernang ripe stage, it has high fiber and low sugar',\n",
        "    'This is Lebmuernang very ripe stage, it has high fiber and antioxidants',\n",
        "    'This is Lebmuernang over ripe state, it has highest sugar ,lowest fiber and vitamin content',\n",
        "    'This is PisangAwake underripe stage, it has high resistance starch and probiotics',\n",
        "    'This is PisangAwake ripe stage, it has high fiber and low sugar',\n",
        "    'This is PisangAwake very ripe stage, it has high fiber and antioxidants',\n",
        "    'This is PisangAwake over ripe state, it has highest sugar ,lowest fiber and vitamin content']\n",
        "\n",
        "def predict(img):\n",
        "    img = PILImage.create(img)\n",
        "    pred,pred_idx,probs = learn.predict(img)\n",
        "    return {labels[i]: float(probs[i]) for i in range(len(labels))}"
      ]
    },
    {
      "cell_type": "code",
      "execution_count": null,
      "metadata": {
        "colab": {
          "base_uri": "https://localhost:8080/",
          "height": 775
        },
        "id": "I6tvxDla85Ge",
        "outputId": "8e8c6127-2381-4d9e-cee3-bbcb6e9e05be"
      },
      "outputs": [
        {
          "name": "stderr",
          "output_type": "stream",
          "text": [
            "/usr/local/lib/python3.10/dist-packages/gradio/inputs.py:259: UserWarning: Usage of gradio.inputs is deprecated, and will not be supported in the future, please import your component from gradio.components\n",
            "  warnings.warn(\n",
            "/usr/local/lib/python3.10/dist-packages/gradio/inputs.py:262: UserWarning: `optional` parameter is deprecated, and it has no effect\n",
            "  super().__init__(\n",
            "/usr/local/lib/python3.10/dist-packages/gradio/outputs.py:197: UserWarning: Usage of gradio.outputs is deprecated, and will not be supported in the future, please import your components from gradio.components\n",
            "  warnings.warn(\n",
            "/usr/local/lib/python3.10/dist-packages/gradio/outputs.py:200: UserWarning: The 'type' parameter has been deprecated. Use the Number component instead.\n",
            "  super().__init__(num_top_classes=num_top_classes, type=type, label=label)\n"
          ]
        },
        {
          "name": "stdout",
          "output_type": "stream",
          "text": [
            "Colab notebook detected. To show errors in colab notebook, set debug=True in launch()\n",
            "Note: opening Chrome Inspector may crash demo inside Colab notebooks.\n",
            "\n",
            "To create a public link, set `share=True` in `launch()`.\n"
          ]
        },
        {
          "data": {
            "application/javascript": "(async (port, path, width, height, cache, element) => {\n                        if (!google.colab.kernel.accessAllowed && !cache) {\n                            return;\n                        }\n                        element.appendChild(document.createTextNode(''));\n                        const url = await google.colab.kernel.proxyPort(port, {cache});\n\n                        const external_link = document.createElement('div');\n                        external_link.innerHTML = `\n                            <div style=\"font-family: monospace; margin-bottom: 0.5rem\">\n                                Running on <a href=${new URL(path, url).toString()} target=\"_blank\">\n                                    https://localhost:${port}${path}\n                                </a>\n                            </div>\n                        `;\n                        element.appendChild(external_link);\n\n                        const iframe = document.createElement('iframe');\n                        iframe.src = new URL(path, url).toString();\n                        iframe.height = height;\n                        iframe.allow = \"autoplay; camera; microphone; clipboard-read; clipboard-write;\"\n                        iframe.width = width;\n                        iframe.style.border = 0;\n                        element.appendChild(iframe);\n                    })(7912, \"/\", \"100%\", 500, false, window.element)",
            "text/plain": [
              "<IPython.core.display.Javascript object>"
            ]
          },
          "metadata": {},
          "output_type": "display_data"
        },
        {
          "data": {
            "text/plain": []
          },
          "execution_count": 89,
          "metadata": {},
          "output_type": "execute_result"
        }
      ],
      "source": [
        "gr_interface = gr.Interface(fn=predict, inputs=gr.inputs.Image(shape=(224, 224)),outputs=gr.outputs.Label(num_top_classes=3), title=\"ฺBananaRipenessClassification\",description=\"* The least ripe side of the avocado should be taken.\", interpretation=\"default\",examples=[\n",
        "        [\"/content/t_03a.jpg\"],\n",
        "        [\"/content/t_08b.jpg\"],\n",
        "        [\"/content/th_06b.jpg\"],\n",
        "\n",
        "    ])\n",
        "gr_interface.launch()"
      ]
    },
    {
      "cell_type": "code",
      "execution_count": null,
      "metadata": {
        "id": "TxSfIQ2q9Cmi"
      },
      "outputs": [],
      "source": []
    }
  ],
  "metadata": {
    "accelerator": "GPU",
    "colab": {
      "gpuType": "T4",
      "provenance": []
    },
    "kernelspec": {
      "display_name": "Python 3",
      "name": "python3"
    },
    "language_info": {
      "name": "python"
    }
  },
  "nbformat": 4,
  "nbformat_minor": 0
}